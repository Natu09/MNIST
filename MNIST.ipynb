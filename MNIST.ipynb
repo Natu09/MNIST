{
  "nbformat": 4,
  "nbformat_minor": 0,
  "metadata": {
    "colab": {
      "name": "MNIST.ipynb",
      "version": "0.3.2",
      "provenance": [],
      "collapsed_sections": [],
      "include_colab_link": true
    },
    "kernelspec": {
      "name": "python3",
      "display_name": "Python 3"
    }
  },
  "cells": [
    {
      "cell_type": "markdown",
      "metadata": {
        "id": "view-in-github",
        "colab_type": "text"
      },
      "source": [
        "<a href=\"https://colab.research.google.com/github/NatuO9/MNIST/blob/master/MNIST.ipynb\" target=\"_parent\"><img src=\"https://colab.research.google.com/assets/colab-badge.svg\" alt=\"Open In Colab\"/></a>"
      ]
    },
    {
      "metadata": {
        "id": "CUeNedH7cxE3",
        "colab_type": "code",
        "outputId": "09bf7ffd-183b-453e-90b7-f4a259fa4a0e",
        "colab": {
          "base_uri": "https://localhost:8080/",
          "height": 52
        }
      },
      "cell_type": "code",
      "source": [
        "%pylab inline\n",
        "\n",
        "import os\n",
        "import numpy as np\n",
        "import pandas as pd\n",
        "\n",
        "from scipy.misc import imread\n",
        "from sklearn.metrics import accuracy_score\n",
        "\n",
        "import tensorflow as tf\n",
        "import keras"
      ],
      "execution_count": 0,
      "outputs": [
        {
          "output_type": "stream",
          "text": [
            "Populating the interactive namespace from numpy and matplotlib\n"
          ],
          "name": "stdout"
        },
        {
          "output_type": "stream",
          "text": [
            "Using TensorFlow backend.\n"
          ],
          "name": "stderr"
        }
      ]
    },
    {
      "metadata": {
        "id": "WkYnYxjEzHwm",
        "colab_type": "text"
      },
      "cell_type": "markdown",
      "source": [
        "# Downloading The MNIST data set"
      ]
    },
    {
      "metadata": {
        "id": "VAdOFL_CS-BZ",
        "colab_type": "code",
        "colab": {}
      },
      "cell_type": "code",
      "source": [
        "from keras.datasets import mnist"
      ],
      "execution_count": 0,
      "outputs": []
    },
    {
      "metadata": {
        "id": "gTe-FMPKT_P8",
        "colab_type": "code",
        "colab": {}
      },
      "cell_type": "code",
      "source": [
        "(Images_train, Labels_train), (Images_test, Labels_test) = mnist.load_data()"
      ],
      "execution_count": 0,
      "outputs": []
    },
    {
      "metadata": {
        "id": "2B_uzho7UUDl",
        "colab_type": "code",
        "colab": {}
      },
      "cell_type": "code",
      "source": [
        "np.array(Images_test)"
      ],
      "execution_count": 0,
      "outputs": []
    },
    {
      "metadata": {
        "id": "o3-gpwHXUlho",
        "colab_type": "code",
        "outputId": "7a1e0137-2d70-41f7-8cb4-eaec41db56fe",
        "colab": {
          "base_uri": "https://localhost:8080/",
          "height": 35
        }
      },
      "cell_type": "code",
      "source": [
        "Images_test.shape"
      ],
      "execution_count": 0,
      "outputs": [
        {
          "output_type": "execute_result",
          "data": {
            "text/plain": [
              "(10000, 28, 28)"
            ]
          },
          "metadata": {
            "tags": []
          },
          "execution_count": 14
        }
      ]
    },
    {
      "metadata": {
        "id": "pVkol0dtybNA",
        "colab_type": "code",
        "outputId": "6c7d925d-7ce1-42c3-d35e-ef8b4dcf3ac3",
        "colab": {
          "base_uri": "https://localhost:8080/",
          "height": 35
        }
      },
      "cell_type": "code",
      "source": [
        "Images_train.shape"
      ],
      "execution_count": 0,
      "outputs": [
        {
          "output_type": "execute_result",
          "data": {
            "text/plain": [
              "(60000, 28, 28)"
            ]
          },
          "metadata": {
            "tags": []
          },
          "execution_count": 8
        }
      ]
    },
    {
      "metadata": {
        "id": "Lgbd4dIxyhX-",
        "colab_type": "code",
        "outputId": "6d7225e9-0f79-48c5-aa9b-a725135ad558",
        "colab": {
          "base_uri": "https://localhost:8080/",
          "height": 35
        }
      },
      "cell_type": "code",
      "source": [
        "Labels_train.shape"
      ],
      "execution_count": 0,
      "outputs": [
        {
          "output_type": "execute_result",
          "data": {
            "text/plain": [
              "(60000,)"
            ]
          },
          "metadata": {
            "tags": []
          },
          "execution_count": 10
        }
      ]
    },
    {
      "metadata": {
        "id": "v3BtaQY0yhp9",
        "colab_type": "code",
        "outputId": "292f5fb2-fb2d-4778-9f02-334f54c7f6fe",
        "colab": {
          "base_uri": "https://localhost:8080/",
          "height": 35
        }
      },
      "cell_type": "code",
      "source": [
        "Labels_test.shape"
      ],
      "execution_count": 0,
      "outputs": [
        {
          "output_type": "execute_result",
          "data": {
            "text/plain": [
              "(10000,)"
            ]
          },
          "metadata": {
            "tags": []
          },
          "execution_count": 9
        }
      ]
    },
    {
      "metadata": {
        "id": "Ct-LdZWIc7FF",
        "colab_type": "code",
        "colab": {}
      },
      "cell_type": "code",
      "source": [
        "from google.colab import drive\n",
        "import os"
      ],
      "execution_count": 0,
      "outputs": []
    },
    {
      "metadata": {
        "id": "RQXJFubDdjfJ",
        "colab_type": "code",
        "colab": {}
      },
      "cell_type": "code",
      "source": [
        "\n",
        "drive.mount('/content/drive')"
      ],
      "execution_count": 0,
      "outputs": []
    },
    {
      "metadata": {
        "id": "z_xCEBjKfkkg",
        "colab_type": "code",
        "outputId": "b91d6524-7250-4134-93fb-25f4854c58b0",
        "colab": {
          "base_uri": "https://localhost:8080/",
          "height": 300
        }
      },
      "cell_type": "code",
      "source": [
        "image_index = 7777 # You may select anything up to 60,000\n",
        "\n",
        "print(Labels_train[image_index]) # The label is 8\n",
        "\n",
        "plt.imshow(Images_train[image_index], cmap='Greys')"
      ],
      "execution_count": 0,
      "outputs": [
        {
          "output_type": "stream",
          "text": [
            "8\n"
          ],
          "name": "stdout"
        },
        {
          "output_type": "execute_result",
          "data": {
            "text/plain": [
              "<matplotlib.image.AxesImage at 0x7f4f21248c50>"
            ]
          },
          "metadata": {
            "tags": []
          },
          "execution_count": 15
        },
        {
          "output_type": "display_data",
          "data": {
            "image/png": "[encoded data removed]",
            "text/plain": [
              "<Figure size 432x288 with 1 Axes>"
            ]
          },
          "metadata": {
            "tags": []
          }
        }
      ]
    },
    {
      "metadata": {
        "id": "15x5bSdQVpoP",
        "colab_type": "text"
      },
      "cell_type": "markdown",
      "source": [
        "# Reshaping and Normalizing the Images"
      ]
    },
    {
      "metadata": {
        "id": "VqDGMdGDVyqs",
        "colab_type": "code",
        "outputId": "afc1777f-d4f2-4474-a68b-7030d303d837",
        "colab": {
          "base_uri": "https://localhost:8080/",
          "height": 74
        }
      },
      "cell_type": "code",
      "source": [
        "# Reshaping the array to 4-dims so that it can work with the Keras API\n",
        "\n",
        "Images_train = Images_train.reshape(Images_train.shape[0], 28, 28, 1)\n",
        "\n",
        "Images_test = Images_test.reshape(Images_test.shape[0], 28, 28, 1)\n",
        "\n",
        "input_shape = (28, 28, 1)\n",
        "\n",
        "# Making sure that the values are float so that we can get decimal points after division\n",
        "\n",
        "Images_train = Images_train.astype('float32')\n",
        "\n",
        "Images_test = Images_test.astype('float32')\n",
        "\n",
        "# Normalizing the RGB codes by dividing it to the max RGB value.\n",
        "\n",
        "Images_train /= 255\n",
        "\n",
        "Images_test /= 255\n",
        "\n",
        "print('Images_train shape:', Images_train.shape)\n",
        "\n",
        "print('Number of images in Images_train', Images_train.shape[0])\n",
        "\n",
        "print('Number of images in Images_test', Images_test.shape[0])"
      ],
      "execution_count": 0,
      "outputs": [
        {
          "output_type": "stream",
          "text": [
            "Images_train shape: (60000, 28, 28, 1)\n",
            "Number of images in Images_train 60000\n",
            "Number of images in Images_test 10000\n"
          ],
          "name": "stdout"
        }
      ]
    },
    {
      "metadata": {
        "id": "6Q7DSQII0fBI",
        "colab_type": "text"
      },
      "cell_type": "markdown",
      "source": [
        "# Building the Convolutional Neural Network"
      ]
    },
    {
      "metadata": {
        "id": "P_i1qemJ0j1z",
        "colab_type": "code",
        "colab": {}
      },
      "cell_type": "code",
      "source": [
        "# Importing the required Keras modules containing model and layers\n",
        "\n",
        "from keras.models import Sequential\n",
        "\n",
        "from keras.layers import Dense, Conv2D, Dropout, Flatten, MaxPooling2D\n",
        "\n",
        "# Creating a Sequential Model and adding the layers\n",
        "\n",
        "model = Sequential()\n",
        "\n",
        "model.add(Conv2D(28, kernel_size=(3,3), input_shape=input_shape))\n",
        "\n",
        "model.add(MaxPooling2D(pool_size=(2, 2)))\n",
        "\n",
        "model.add(Flatten()) # Flattening the 2D arrays for fully connected layers\n",
        "\n",
        "model.add(Dense(128, activation=tf.nn.relu))\n",
        "\n",
        "model.add(Dropout(0.2))\n",
        "\n",
        "model.add(Dense(10,activation=tf.nn.softmax))"
      ],
      "execution_count": 0,
      "outputs": []
    },
    {
      "metadata": {
        "id": "hioI0Qk41D6V",
        "colab_type": "text"
      },
      "cell_type": "markdown",
      "source": [
        "# Compiling and Fitting the Model\n"
      ]
    },
    {
      "metadata": {
        "id": "SgSjDiL71Hw_",
        "colab_type": "code",
        "outputId": "096cd5be-a40e-452a-e3fd-722ca937fab1",
        "colab": {
          "base_uri": "https://localhost:8080/",
          "height": 1003
        }
      },
      "cell_type": "code",
      "source": [
        "model.compile(optimizer='adam', \n",
        "\n",
        "              loss='sparse_categorical_crossentropy', \n",
        "\n",
        "              metrics=['accuracy'])\n",
        "\n",
        "model.fit(x=Images_train,y=Labels_train, epochs=10)"
      ],
      "execution_count": 0,
      "outputs": [
        {
          "output_type": "stream",
          "text": [
            "WARNING:tensorflow:From /usr/local/lib/python3.6/dist-packages/tensorflow/python/ops/math_ops.py:3066: to_int32 (from tensorflow.python.ops.math_ops) is deprecated and will be removed in a future version.\n",
            "Instructions for updating:\n",
            "Use tf.cast instead.\n",
            "Epoch 1/10\n",
            "60000/60000 [==============================] - 57s 952us/step - loss: 0.2146 - acc: 0.9356\n",
            "Epoch 2/10\n",
            "60000/60000 [==============================] - 56s 936us/step - loss: 0.0872 - acc: 0.9737\n",
            "Epoch 3/10\n",
            "60000/60000 [==============================] - 56s 940us/step - loss: 0.0609 - acc: 0.9810\n",
            "Epoch 4/10\n",
            "60000/60000 [==============================] - 54s 897us/step - loss: 0.0461 - acc: 0.9855\n",
            "Epoch 5/10\n",
            "60000/60000 [==============================] - 55s 918us/step - loss: 0.0369 - acc: 0.9881\n",
            "Epoch 6/10\n",
            "60000/60000 [==============================] - 55s 913us/step - loss: 0.0285 - acc: 0.9902\n",
            "Epoch 7/10\n",
            "60000/60000 [==============================] - 55s 909us/step - loss: 0.0260 - acc: 0.9913\n",
            "Epoch 8/10\n",
            "60000/60000 [==============================] - 54s 904us/step - loss: 0.0227 - acc: 0.9927\n",
            "Epoch 9/10\n",
            "60000/60000 [==============================] - 55s 916us/step - loss: 0.0183 - acc: 0.9934\n",
            "Epoch 10/10\n",
            "60000/60000 [==============================] - 54s 905us/step - loss: 0.0174 - acc: 0.9940\n"
          ],
          "name": "stdout"
        },
        {
          "output_type": "execute_result",
          "data": {
            "text/plain": [
              "<keras.callbacks.History at 0x7f4f21734940>"
            ]
          },
          "metadata": {
            "tags": []
          },
          "execution_count": 19
        }
      ]
    },
    {
      "metadata": {
        "id": "1ddho3KY34ll",
        "colab_type": "text"
      },
      "cell_type": "markdown",
      "source": [
        "# Evaluating The Model"
      ]
    },
    {
      "metadata": {
        "id": "I3mzLmbX3wK3",
        "colab_type": "code",
        "outputId": "6770b602-02cc-4500-c2df-e5535da1d90a",
        "colab": {
          "base_uri": "https://localhost:8080/",
          "height": 52
        }
      },
      "cell_type": "code",
      "source": [
        "\n",
        "\n",
        "model.evaluate(Images_test, Labels_test)"
      ],
      "execution_count": 0,
      "outputs": [
        {
          "output_type": "stream",
          "text": [
            "10000/10000 [==============================] - 2s 221us/step\n"
          ],
          "name": "stdout"
        },
        {
          "output_type": "execute_result",
          "data": {
            "text/plain": [
              "[0.058502479961315475, 0.9847]"
            ]
          },
          "metadata": {
            "tags": []
          },
          "execution_count": 20
        }
      ]
    },
    {
      "metadata": {
        "id": "LSmTnoG14G7B",
        "colab_type": "code",
        "outputId": "c6408b86-1d7e-4ce8-8b3e-e12bb5476046",
        "colab": {
          "base_uri": "https://localhost:8080/",
          "height": 616
        }
      },
      "cell_type": "code",
      "source": [
        "import random\n",
        "for i in range(10): \n",
        "  x = random.randint(1,10000)\n",
        "  image_index = x\n",
        "\n",
        "  plt.imshow(Images_test[image_index].reshape(28, 28),cmap='Greys')\n",
        "\n",
        "  pred = model.predict(Images_test[image_index].reshape(1, 28, 28, 1))\n",
        "\n",
        "  print(\"Prediction is:  \", pred.argmax(),\"/ Actual value is: \", Labels_test[image_index], \"\\n\")"
      ],
      "execution_count": 0,
      "outputs": [
        {
          "output_type": "stream",
          "text": [
            "Prediction is:   9 / Actual value is:  9 \n",
            "\n",
            "Prediction is:   1 / Actual value is:  1 \n",
            "\n",
            "Prediction is:   8 / Actual value is:  8 \n",
            "\n",
            "Prediction is:   4 / Actual value is:  4 \n",
            "\n",
            "Prediction is:   1 / Actual value is:  1 \n",
            "\n",
            "Prediction is:   1 / Actual value is:  1 \n",
            "\n",
            "Prediction is:   2 / Actual value is:  2 \n",
            "\n",
            "Prediction is:   7 / Actual value is:  7 \n",
            "\n",
            "Prediction is:   9 / Actual value is:  9 \n",
            "\n",
            "Prediction is:   8 / Actual value is:  8 \n",
            "\n"
          ],
          "name": "stdout"
        },
        {
          "output_type": "display_data",
          "data": {
            "image/png": "[encoded data removed]",
            "text/plain": [
              "<Figure size 432x288 with 1 Axes>"
            ]
          },
          "metadata": {
            "tags": []
          }
        }
      ]
    }
  ]
}